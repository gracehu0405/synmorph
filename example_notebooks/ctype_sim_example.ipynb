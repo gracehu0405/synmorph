{
 "cells": [
  {
   "cell_type": "code",
   "execution_count": 1,
   "metadata": {},
   "outputs": [
    {
     "ename": "ModuleNotFoundError",
     "evalue": "No module named 'periodic_functions'",
     "output_type": "error",
     "traceback": [
      "\u001B[0;31m---------------------------------------------------------------------------\u001B[0m",
      "\u001B[0;31mModuleNotFoundError\u001B[0m                       Traceback (most recent call last)",
      "\u001B[0;32m/var/folders/0f/jqwgl6y5043_y0pt9qdbzgn41t6zjy/T/ipykernel_80078/998188831.py\u001B[0m in \u001B[0;36m<module>\u001B[0;34m\u001B[0m\n\u001B[1;32m      3\u001B[0m \u001B[0;32mimport\u001B[0m \u001B[0mos\u001B[0m\u001B[0;34m\u001B[0m\u001B[0;34m\u001B[0m\u001B[0m\n\u001B[1;32m      4\u001B[0m \u001B[0msys\u001B[0m\u001B[0;34m.\u001B[0m\u001B[0mpath\u001B[0m\u001B[0;34m.\u001B[0m\u001B[0mappend\u001B[0m\u001B[0;34m(\u001B[0m\u001B[0mos\u001B[0m\u001B[0;34m.\u001B[0m\u001B[0mpath\u001B[0m\u001B[0;34m.\u001B[0m\u001B[0mabspath\u001B[0m\u001B[0;34m(\u001B[0m\u001B[0;34m'..'\u001B[0m\u001B[0;34m)\u001B[0m\u001B[0;34m)\u001B[0m\u001B[0;34m\u001B[0m\u001B[0;34m\u001B[0m\u001B[0m\n\u001B[0;32m----> 5\u001B[0;31m \u001B[0;32mimport\u001B[0m \u001B[0msynmorph\u001B[0m \u001B[0;32mas\u001B[0m \u001B[0msm\u001B[0m\u001B[0;34m\u001B[0m\u001B[0;34m\u001B[0m\u001B[0m\n\u001B[0m\u001B[1;32m      6\u001B[0m \u001B[0;34m\u001B[0m\u001B[0m\n\u001B[1;32m      7\u001B[0m tissue_params = {\"L\": 9,\n",
      "\u001B[0;32m~/PycharmProjects/synmorph/synmorph/__init__.py\u001B[0m in \u001B[0;36m<module>\u001B[0;34m\u001B[0m\n\u001B[0;32m----> 1\u001B[0;31m \u001B[0;32mfrom\u001B[0m \u001B[0msynmorph\u001B[0m\u001B[0;34m.\u001B[0m\u001B[0msimulation\u001B[0m \u001B[0;32mimport\u001B[0m \u001B[0mSimulation\u001B[0m \u001B[0;32mas\u001B[0m \u001B[0msimulation\u001B[0m\u001B[0;34m\u001B[0m\u001B[0;34m\u001B[0m\u001B[0m\n\u001B[0m",
      "\u001B[0;32m~/PycharmProjects/synmorph/synmorph/simulation.py\u001B[0m in \u001B[0;36m<module>\u001B[0;34m\u001B[0m\n\u001B[1;32m     10\u001B[0m \u001B[0;32mfrom\u001B[0m \u001B[0mtqdm\u001B[0m \u001B[0;32mimport\u001B[0m \u001B[0mtqdm\u001B[0m\u001B[0;34m\u001B[0m\u001B[0;34m\u001B[0m\u001B[0m\n\u001B[1;32m     11\u001B[0m \u001B[0;34m\u001B[0m\u001B[0m\n\u001B[0;32m---> 12\u001B[0;31m \u001B[0;32mimport\u001B[0m \u001B[0mperiodic_functions\u001B[0m \u001B[0;32mas\u001B[0m \u001B[0mper\u001B[0m\u001B[0;34m\u001B[0m\u001B[0;34m\u001B[0m\u001B[0m\n\u001B[0m\u001B[1;32m     13\u001B[0m \u001B[0;32mimport\u001B[0m \u001B[0msim_plotting\u001B[0m \u001B[0;32mas\u001B[0m \u001B[0mplot\u001B[0m\u001B[0;34m\u001B[0m\u001B[0;34m\u001B[0m\u001B[0m\n\u001B[1;32m     14\u001B[0m \u001B[0;32mfrom\u001B[0m \u001B[0mtissue\u001B[0m \u001B[0;32mimport\u001B[0m \u001B[0mTissue\u001B[0m\u001B[0;34m\u001B[0m\u001B[0;34m\u001B[0m\u001B[0m\n",
      "\u001B[0;31mModuleNotFoundError\u001B[0m: No module named 'periodic_functions'"
     ]
    }
   ],
   "source": [
    "import numpy as np\n",
    "import sys\n",
    "import os\n",
    "sys.path.append(os.path.abspath('..'))\n",
    "import synmorph as sm\n",
    "\n",
    "tissue_params = {\"L\": 9,\n",
    "                 \"A0\": 1,\n",
    "                 \"P0\": 3.81,\n",
    "                 \"kappa_A\": 1,\n",
    "                 \"kappa_P\": 0.1,\n",
    "                 \"W\": np.array(((0, 0.0762), (0.0762, 0)))*0.75,\n",
    "                 \"a\": 0,\n",
    "                 \"k\": 0}\n",
    "active_params = {\"v0\": 1e-1,\n",
    "                 \"Dr\": 1e-1}\n",
    "init_params = {\"init_noise\": 0.005,\n",
    "               \"c_type_proportions\": (0.5, 0.5)}\n",
    "run_options = {\"equiangulate\": True,\n",
    "               \"equi_nkill\": 3}\n",
    "simulation_params = {\"dt\": 0.025,\n",
    "                     \"tfin\": 250,\n",
    "                     \"tskip\": 10,\n",
    "                     \"grn_sim\": None}\n",
    "save_options = {\"save\": \"last\",\n",
    "                \"result_dir\": \"results\",\n",
    "                \"name\": \"ctype_example_2\",\n",
    "                \"compressed\": True}\n",
    "sim = sm.simulation(tissue_params=tissue_params,\n",
    "                    active_params=active_params,\n",
    "                    init_params=init_params,\n",
    "                    simulation_params=simulation_params,\n",
    "                    run_options=run_options,\n",
    "                    save_options=save_options)\n",
    "sim.simulate(progress_bar=True)\n",
    "\n",
    "sim.animate_c_types(n_frames=100,\n",
    "                    c_type_col_map=[\"#D67D79\", \"#686EA1\"],\n",
    "                    file_name=None)\n"
   ]
  },
  {
   "cell_type": "code",
   "execution_count": null,
   "metadata": {},
   "outputs": [],
   "source": []
  },
  {
   "cell_type": "code",
   "execution_count": null,
   "metadata": {},
   "outputs": [],
   "source": []
  },
  {
   "cell_type": "code",
   "execution_count": null,
   "metadata": {},
   "outputs": [],
   "source": []
  }
 ],
 "metadata": {
  "kernelspec": {
   "display_name": "Python 3 (ipykernel)",
   "language": "python",
   "name": "python3"
  },
  "language_info": {
   "codemirror_mode": {
    "name": "ipython",
    "version": 3
   },
   "file_extension": ".py",
   "mimetype": "text/x-python",
   "name": "python",
   "nbconvert_exporter": "python",
   "pygments_lexer": "ipython3",
   "version": "3.9.7"
  }
 },
 "nbformat": 4,
 "nbformat_minor": 1
}
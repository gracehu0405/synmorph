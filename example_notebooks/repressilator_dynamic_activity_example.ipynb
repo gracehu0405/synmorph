{
 "cells": [
  {
   "cell_type": "code",
   "execution_count": 1,
   "metadata": {},
   "outputs": [
    {
     "ename": "ModuleNotFoundError",
     "evalue": "No module named 'grn'",
     "output_type": "error",
     "traceback": [
      "\u001B[0;31m---------------------------------------------------------------------------\u001B[0m",
      "\u001B[0;31mModuleNotFoundError\u001B[0m                       Traceback (most recent call last)",
      "\u001B[0;32m/var/folders/0f/jqwgl6y5043_y0pt9qdbzgn41t6zjy/T/ipykernel_79942/4119588836.py\u001B[0m in \u001B[0;36m<module>\u001B[0;34m\u001B[0m\n\u001B[1;32m     38\u001B[0m                 \u001B[0;34m\"name\"\u001B[0m\u001B[0;34m:\u001B[0m \u001B[0;32mNone\u001B[0m\u001B[0;34m,\u001B[0m\u001B[0;34m\u001B[0m\u001B[0;34m\u001B[0m\u001B[0m\n\u001B[1;32m     39\u001B[0m                 \"compressed\": True}\n\u001B[0;32m---> 40\u001B[0;31m sim = sm.simulation(tissue_params=tissue_params,\n\u001B[0m\u001B[1;32m     41\u001B[0m                     \u001B[0mactive_params\u001B[0m\u001B[0;34m=\u001B[0m\u001B[0mactive_params\u001B[0m\u001B[0;34m,\u001B[0m\u001B[0;34m\u001B[0m\u001B[0;34m\u001B[0m\u001B[0m\n\u001B[1;32m     42\u001B[0m                     \u001B[0minit_params\u001B[0m\u001B[0;34m=\u001B[0m\u001B[0minit_params\u001B[0m\u001B[0;34m,\u001B[0m\u001B[0;34m\u001B[0m\u001B[0;34m\u001B[0m\u001B[0m\n",
      "\u001B[0;32m~/PycharmProjects/synmorph/synmorph/simulation.py\u001B[0m in \u001B[0;36m__init__\u001B[0;34m(self, tissue, tissue_params, active_params, init_params, simulation_params, grn_params, run_options, save_options)\u001B[0m\n\u001B[1;32m     66\u001B[0m         \u001B[0;31m##initialize GRN\u001B[0m\u001B[0;34m\u001B[0m\u001B[0;34m\u001B[0m\u001B[0m\n\u001B[1;32m     67\u001B[0m         \u001B[0;32mif\u001B[0m \u001B[0mself\u001B[0m\u001B[0;34m.\u001B[0m\u001B[0msimulation_params\u001B[0m\u001B[0;34m[\u001B[0m\u001B[0;34m\"grn_sim\"\u001B[0m\u001B[0;34m]\u001B[0m \u001B[0;32mis\u001B[0m \u001B[0;32mnot\u001B[0m \u001B[0;32mNone\u001B[0m\u001B[0;34m:\u001B[0m\u001B[0;34m\u001B[0m\u001B[0;34m\u001B[0m\u001B[0m\n\u001B[0;32m---> 68\u001B[0;31m             self.grn = getattr(importlib.import_module(\"grn.%s\" % self.simulation_params[\"grn_sim\"].lower()),\n\u001B[0m\u001B[1;32m     69\u001B[0m                                self.simulation_params[\n\u001B[1;32m     70\u001B[0m                                    \"grn_sim\"].capitalize())  ##import grn class of interest using the string \"grn_sim\" if this is not None.\n",
      "\u001B[0;32m/opt/miniconda3/envs/synmorph/lib/python3.9/importlib/__init__.py\u001B[0m in \u001B[0;36mimport_module\u001B[0;34m(name, package)\u001B[0m\n\u001B[1;32m    125\u001B[0m                 \u001B[0;32mbreak\u001B[0m\u001B[0;34m\u001B[0m\u001B[0;34m\u001B[0m\u001B[0m\n\u001B[1;32m    126\u001B[0m             \u001B[0mlevel\u001B[0m \u001B[0;34m+=\u001B[0m \u001B[0;36m1\u001B[0m\u001B[0;34m\u001B[0m\u001B[0;34m\u001B[0m\u001B[0m\n\u001B[0;32m--> 127\u001B[0;31m     \u001B[0;32mreturn\u001B[0m \u001B[0m_bootstrap\u001B[0m\u001B[0;34m.\u001B[0m\u001B[0m_gcd_import\u001B[0m\u001B[0;34m(\u001B[0m\u001B[0mname\u001B[0m\u001B[0;34m[\u001B[0m\u001B[0mlevel\u001B[0m\u001B[0;34m:\u001B[0m\u001B[0;34m]\u001B[0m\u001B[0;34m,\u001B[0m \u001B[0mpackage\u001B[0m\u001B[0;34m,\u001B[0m \u001B[0mlevel\u001B[0m\u001B[0;34m)\u001B[0m\u001B[0;34m\u001B[0m\u001B[0;34m\u001B[0m\u001B[0m\n\u001B[0m\u001B[1;32m    128\u001B[0m \u001B[0;34m\u001B[0m\u001B[0m\n\u001B[1;32m    129\u001B[0m \u001B[0;34m\u001B[0m\u001B[0m\n",
      "\u001B[0;32m/opt/miniconda3/envs/synmorph/lib/python3.9/importlib/_bootstrap.py\u001B[0m in \u001B[0;36m_gcd_import\u001B[0;34m(name, package, level)\u001B[0m\n",
      "\u001B[0;32m/opt/miniconda3/envs/synmorph/lib/python3.9/importlib/_bootstrap.py\u001B[0m in \u001B[0;36m_find_and_load\u001B[0;34m(name, import_)\u001B[0m\n",
      "\u001B[0;32m/opt/miniconda3/envs/synmorph/lib/python3.9/importlib/_bootstrap.py\u001B[0m in \u001B[0;36m_find_and_load_unlocked\u001B[0;34m(name, import_)\u001B[0m\n",
      "\u001B[0;32m/opt/miniconda3/envs/synmorph/lib/python3.9/importlib/_bootstrap.py\u001B[0m in \u001B[0;36m_call_with_frames_removed\u001B[0;34m(f, *args, **kwds)\u001B[0m\n",
      "\u001B[0;32m/opt/miniconda3/envs/synmorph/lib/python3.9/importlib/_bootstrap.py\u001B[0m in \u001B[0;36m_gcd_import\u001B[0;34m(name, package, level)\u001B[0m\n",
      "\u001B[0;32m/opt/miniconda3/envs/synmorph/lib/python3.9/importlib/_bootstrap.py\u001B[0m in \u001B[0;36m_find_and_load\u001B[0;34m(name, import_)\u001B[0m\n",
      "\u001B[0;32m/opt/miniconda3/envs/synmorph/lib/python3.9/importlib/_bootstrap.py\u001B[0m in \u001B[0;36m_find_and_load_unlocked\u001B[0;34m(name, import_)\u001B[0m\n",
      "\u001B[0;31mModuleNotFoundError\u001B[0m: No module named 'grn'"
     ]
    }
   ],
   "source": [
    "import numpy as np\n",
    "import matplotlib.pyplot as plt\n",
    "import sys\n",
    "import os\n",
    "sys.path.append(os.path.abspath('..'))\n",
    "import synmorph as sm\n",
    "\n",
    "tissue_params = {\"L\": 9,\n",
    "                 \"A0\": 1,\n",
    "                 \"P0\": 3.81,\n",
    "                 \"kappa_A\": 1,\n",
    "                 \"kappa_P\": 0.1,\n",
    "                 \"W\": np.array(((0, 0.0762), (0.0762, 0))),\n",
    "                 \"a\": 0,\n",
    "                 \"k\": 0}\n",
    "active_params = {\"v0\": 1e-1,\n",
    "                 \"Dr\": 1e-1}\n",
    "init_params = {\"init_noise\": 0.005,\n",
    "               \"c_type_proportions\": (1.0, 0)}\n",
    "run_options = {\"equiangulate\": True,\n",
    "               \"equi_nkill\": 3}\n",
    "simulation_params = {\"dt\": 0.05,\n",
    "                     \"tfin\": 60,\n",
    "                     \"tskip\": 10,\n",
    "                     \"dt_grn\": 0.025,\n",
    "                     \"grn_sim\": \"repressilator_move\"}\n",
    "grn_params = {\"init_type\": \"uniform\",\n",
    "              \"init_val_min\": np.array((0.9, 0.9, 0.9)),\n",
    "              \"init_val_max\": np.array((1.2, 1.2, 1.2)),\n",
    "              \"dt_equilibrate\": 0.1,\n",
    "              \"tfin_equilibrate\": 10,\n",
    "              \"kappa\": 0.05,\n",
    "              \"beta\": 40,\n",
    "              \"n\": 3,\n",
    "              \"sf\": 0.5,\n",
    "              \"mu_move\": 0.01}\n",
    "save_options = {\"save\": \"last\",\n",
    "                \"result_dir\": \"dynamic_activity_example\",\n",
    "                \"name\": None,\n",
    "                \"compressed\": True}\n",
    "sim = sm.simulation(tissue_params=tissue_params,\n",
    "                    active_params=active_params,\n",
    "                    init_params=init_params,\n",
    "                    simulation_params=simulation_params,\n",
    "                    grn_params=grn_params,\n",
    "                    run_options=run_options,\n",
    "                    save_options=save_options)\n",
    "\n",
    "sim.simulate(progress_bar=True)\n",
    "\n",
    "sim.animate_grn(vari=0,\n",
    "                n_frames=60,\n",
    "                cmap=plt.cm.inferno)\n"
   ]
  },
  {
   "cell_type": "code",
   "execution_count": null,
   "metadata": {},
   "outputs": [],
   "source": []
  }
 ],
 "metadata": {
  "kernelspec": {
   "display_name": "Python 3 (ipykernel)",
   "language": "python",
   "name": "python3"
  },
  "language_info": {
   "codemirror_mode": {
    "name": "ipython",
    "version": 3
   },
   "file_extension": ".py",
   "mimetype": "text/x-python",
   "name": "python",
   "nbconvert_exporter": "python",
   "pygments_lexer": "ipython3",
   "version": "3.9.7"
  }
 },
 "nbformat": 4,
 "nbformat_minor": 1
}
{
 "cells": [
  {
   "cell_type": "code",
   "execution_count": null,
   "metadata": {
    "collapsed": true
   },
   "outputs": [],
   "source": [
    "import numpy as np\n",
    "import matplotlib.pyplot as plt\n",
    "import sys\n",
    "import os\n",
    "sys.path.append(os.path.abspath('..'))\n",
    "import synmorph as sm\n",
    "\n",
    "tissue_params = {\"L\": 9,\n",
    "                 \"A0\": 1,\n",
    "                 \"P0\": 3.81,\n",
    "                 \"kappa_A\": 1,\n",
    "                 \"kappa_P\": 0.1,\n",
    "                 \"W\": np.array(((0, 0.0762), (0.0762, 0))),\n",
    "                 \"a\": 0,\n",
    "                 \"k\": 0}\n",
    "active_params = {\"v0\": 1e-1,\n",
    "                 \"Dr\": 1e-1}\n",
    "init_params = {\"init_noise\": 0.005,\n",
    "               \"c_type_proportions\": (1.0,0)}\n",
    "run_options = {\"equiangulate\": True,\n",
    "               \"equi_nkill\": 3}\n",
    "simulation_params = {\"dt\": 0.025,\n",
    "                     \"tfin\": 30,\n",
    "                     \"tskip\": 10,\n",
    "                     \"grn_sim\": None}\n",
    "save_options = {\"save\": \"last\",\n",
    "                \"result_dir\": \"results\",\n",
    "                \"name\": \"dP_example\",\n",
    "                \"compressed\": True}\n",
    "sim = sm.simulation(tissue_params=tissue_params,\n",
    "                    active_params=active_params,\n",
    "                    init_params=init_params,\n",
    "                    simulation_params=simulation_params,\n",
    "                    run_options=run_options,\n",
    "                    save_options=save_options)\n",
    "sim.simulate(progress_bar=True)\n",
    "\n",
    "sim.animate_property(tissue_property=\"dP\",\n",
    "                     n_frames=20,\n",
    "                     cmap=plt.cm.seismic,\n",
    "                     vmid=0,\n",
    "                     file_name=\"dP_animation\")\n"
   ]
  }
 ],
 "metadata": {
  "kernelspec": {
   "display_name": "Python 3",
   "language": "python",
   "name": "python3"
  },
  "language_info": {
   "codemirror_mode": {
    "name": "ipython",
    "version": 2
   },
   "file_extension": ".py",
   "mimetype": "text/x-python",
   "name": "python",
   "nbconvert_exporter": "python",
   "pygments_lexer": "ipython2",
   "version": "2.7.6"
  }
 },
 "nbformat": 4,
 "nbformat_minor": 0
}